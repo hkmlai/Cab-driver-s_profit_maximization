{
 "cells": [
  {
   "cell_type": "markdown",
   "metadata": {
    "colab_type": "text",
    "id": "RiFvX9e1vftF"
   },
   "source": [
    "### Cab-Driver Agent"
   ]
  },
  {
   "cell_type": "code",
   "execution_count": 5,
   "metadata": {
    "colab": {
     "base_uri": "https://localhost:8080/",
     "height": 34
    },
    "colab_type": "code",
    "executionInfo": {
     "elapsed": 18684,
     "status": "ok",
     "timestamp": 1593170550854,
     "user": {
      "displayName": "Hanif Khan",
      "photoUrl": "https://lh3.googleusercontent.com/a-/AOh14Gj6RKQWqRco_5r7xGkFAonrZGAACDGMWGZq1TjRFw=s64",
      "userId": "09099878023367542188"
     },
     "user_tz": -330
    },
    "id": "LMerQZu9vftJ",
    "outputId": "03b3ddda-4975-4dd3-8b40-f1da537396aa"
   },
   "outputs": [
    {
     "name": "stderr",
     "output_type": "stream",
     "text": [
      "Using TensorFlow backend.\n"
     ]
    }
   ],
   "source": [
    "# Importing libraries\n",
    "import numpy as np\n",
    "import random\n",
    "import math\n",
    "from collections import deque\n",
    "import collections\n",
    "import pickle\n",
    "import time\n",
    "\n",
    "# for building DQN model\n",
    "from keras import layers\n",
    "from keras import Sequential\n",
    "from keras.layers import Dense, Activation, Flatten\n",
    "from keras.optimizers import Adam\n",
    "\n",
    "# for plotting graphs\n",
    "import matplotlib.pyplot as plt\n",
    "\n",
    "# Import the environment\n",
    "from Env import CabDriver\n",
    "\n",
    "import os\n",
    "\n",
    "# for dataframe of optimal Q-values\n",
    "import pandas as pd\n",
    "pd.set_option('display.max_columns', None)\n",
    "\n",
    "# for suppressing the warning\n",
    "import warnings\n",
    "warnings.filterwarnings('ignore')"
   ]
  },
  {
   "cell_type": "markdown",
   "metadata": {
    "colab_type": "text",
    "id": "k3T5q3EOvftS"
   },
   "source": [
    "#### Defining Time Matrix"
   ]
  },
  {
   "cell_type": "code",
   "execution_count": 6,
   "metadata": {
    "colab": {},
    "colab_type": "code",
    "executionInfo": {
     "elapsed": 17818,
     "status": "ok",
     "timestamp": 1593170550857,
     "user": {
      "displayName": "Hanif Khan",
      "photoUrl": "https://lh3.googleusercontent.com/a-/AOh14Gj6RKQWqRco_5r7xGkFAonrZGAACDGMWGZq1TjRFw=s64",
      "userId": "09099878023367542188"
     },
     "user_tz": -330
    },
    "id": "xSeg-9tjvftT"
   },
   "outputs": [],
   "source": [
    "# Loading the time matrix provided\n",
    "Time_matrix = np.load(\"TM.npy\")"
   ]
  },
  {
   "cell_type": "markdown",
   "metadata": {
    "colab_type": "text",
    "id": "Kq685mOivftY"
   },
   "source": [
    "#### Tracking the state-action pairs for checking convergence\n"
   ]
  },
  {
   "cell_type": "code",
   "execution_count": 7,
   "metadata": {
    "colab": {
     "base_uri": "https://localhost:8080/",
     "height": 85
    },
    "colab_type": "code",
    "executionInfo": {
     "elapsed": 17079,
     "status": "ok",
     "timestamp": 1593170550858,
     "user": {
      "displayName": "Hanif Khan",
      "photoUrl": "https://lh3.googleusercontent.com/a-/AOh14Gj6RKQWqRco_5r7xGkFAonrZGAACDGMWGZq1TjRFw=s64",
      "userId": "09099878023367542188"
     },
     "user_tz": -330
    },
    "id": "RiVdaRmcvftZ",
    "outputId": "9bb07588-5e43-41b4-ffe6-cc5f3ae01f40",
    "scrolled": true
   },
   "outputs": [
    {
     "data": {
      "text/plain": [
       "defaultdict(dict,\n",
       "            {(0, 0, 0): {(0, 1): []},\n",
       "             (0, 0, 1): {(1, 2): []},\n",
       "             (0, 1, 0): {(1, 0): []}})"
      ]
     },
     "execution_count": 7,
     "metadata": {
      "tags": []
     },
     "output_type": "execute_result"
    }
   ],
   "source": [
    "# Initialise States_tracked as 'States_track' (for convergence)\n",
    "States_track = collections.defaultdict(dict)\n",
    "\n",
    "# Defining a function to initialise states to be tracked\n",
    "def initialise_tracking_states():\n",
    "    sample_q_values = [\n",
    "        ((0,0,0),(0, 1)),\n",
    "        ((0,1,0),(1, 0)),\n",
    "        ((0,0,1),(1, 2))] \n",
    "    for q_values in sample_q_values:\n",
    "        state = q_values[0]\n",
    "        action = q_values[1]\n",
    "        States_track[state][action] = []\n",
    "\n",
    "initialise_tracking_states()\n",
    "States_track"
   ]
  },
  {
   "cell_type": "code",
   "execution_count": 8,
   "metadata": {
    "colab": {},
    "colab_type": "code",
    "executionInfo": {
     "elapsed": 16613,
     "status": "ok",
     "timestamp": 1593170550860,
     "user": {
      "displayName": "Hanif Khan",
      "photoUrl": "https://lh3.googleusercontent.com/a-/AOh14Gj6RKQWqRco_5r7xGkFAonrZGAACDGMWGZq1TjRFw=s64",
      "userId": "09099878023367542188"
     },
     "user_tz": -330
    },
    "id": "Ro4zX16evftj"
   },
   "outputs": [],
   "source": [
    "#Defining a function to save the Q-dictionary as a pickle file\n",
    "def save_obj(obj, name ):\n",
    "    with open(name + '.pkl', 'wb') as f:\n",
    "        pickle.dump(obj, f, pickle.HIGHEST_PROTOCOL)"
   ]
  },
  {
   "cell_type": "markdown",
   "metadata": {
    "colab_type": "text",
    "id": "fsdetOi4vftp"
   },
   "source": [
    "### Agent Class\n",
    "\n",
    "If you are using this framework, you need to fill the following to complete the following code block:\n",
    "1. State and Action Size\n",
    "2. Hyperparameters\n",
    "3. Create a neural-network model in function 'build_model()'\n",
    "4. Define epsilon-greedy strategy in function 'get_action()'\n",
    "5. Complete the function 'append_sample()'. This function appends the recent experience tuple <state, action, reward, new-state> to the memory\n",
    "6. Complete the 'train_model()' function with following logic:\n",
    "   - If the memory size is greater than mini-batch size, you randomly sample experiences from memory as per the mini-batch size and do the following:\n",
    "      - Initialise your input and output batch for training the model\n",
    "      - Calculate the target Q value for each sample: reward + gamma*max(Q(s'a,))\n",
    "      - Get Q(s', a) values from the last trained model\n",
    "      - Update the input batch as your encoded state and output batch as your Q-values\n",
    "      - Then fit your DQN model using the updated input and output batch."
   ]
  },
  {
   "cell_type": "code",
   "execution_count": 9,
   "metadata": {
    "colab": {},
    "colab_type": "code",
    "executionInfo": {
     "elapsed": 14464,
     "status": "ok",
     "timestamp": 1593170550861,
     "user": {
      "displayName": "Hanif Khan",
      "photoUrl": "https://lh3.googleusercontent.com/a-/AOh14Gj6RKQWqRco_5r7xGkFAonrZGAACDGMWGZq1TjRFw=s64",
      "userId": "09099878023367542188"
     },
     "user_tz": -330
    },
    "id": "JmmBCCUvvftq"
   },
   "outputs": [],
   "source": [
    "class DQNAgent:\n",
    "    def __init__(self, state_size, action_size):\n",
    "        # Define size of state and action\n",
    "        self.state_size = state_size\n",
    "        self.action_size = action_size\n",
    "        \n",
    "        # Write here: Specify you hyper parameters for the DQN\n",
    "        self.discount_factor = 0.80\n",
    "        self.learning_rate = 0.0001\n",
    "        self.epsilon_max = 1\n",
    "        self.epsilon_decay = -0.0004\n",
    "        self.epsilon_min = 0\n",
    "        \n",
    "        self.batch_size = 32\n",
    "        # create replay memory using deque\n",
    "        self.memory = deque(maxlen=2000)\n",
    "        \n",
    "        # create main model and target model\n",
    "        self.model = self.build_model()\n",
    "        \n",
    "        # Call the environment\n",
    "        env = CabDriver()\n",
    "        \n",
    "        \n",
    "    # approximate Q function using Neural Network\n",
    "    def build_model(self):\n",
    "        model = Sequential()\n",
    "        # Write your code here: Add layers to your neural nets       \n",
    "        model.add(Dense(32, input_dim=self.state_size, activation='relu',\n",
    "                        kernel_initializer='he_uniform'))\n",
    "        model.add(Dense(32, activation='relu',\n",
    "                        kernel_initializer='he_uniform'))\n",
    "        model.add(Dense(self.action_size, activation='linear',\n",
    "                        kernel_initializer='he_uniform'))\n",
    "        model.compile(loss='mse',optimizer=Adam(lr=self.learning_rate))\n",
    "        model.summary\n",
    "        return model\n",
    "\n",
    "\n",
    "    def get_action(self, state, time):\n",
    "        # Write your code here:\n",
    "        # get action from model using epsilon-greedy policy\n",
    "        # Decay in ε after we generate each sample from the environment       \n",
    "        epsilon = self.epsilon_min + (self.epsilon_max - self.epsilon_min) * np.exp(self.epsilon_decay*time)\n",
    "        possible_actions_index = env.requests(state)[0]\n",
    "        if np.random.rand() <= epsilon:\n",
    "            action_idx = np.random.choice(possible_actions_index)\n",
    "            return action_idx\n",
    "        # if generated random number is greater than ε, choose the action which has max Q-value\n",
    "        else:\n",
    "            # the first index corresponds to the batch size, so\n",
    "            # reshape state to (1, state_size) so that the first index corresponds to the batch size\n",
    "            state = np.array(env.state_encod_arch1(state)).reshape(1, state_size)\n",
    "            q_values = self.model.predict(state)\n",
    "            # extracting relevant q_values for possible actions\n",
    "            relevant_q_values = {possible_actions_index[i]:q_values[0][possible_actions_index[i]] \n",
    "                                 for i in range(len(possible_actions_index))}\n",
    "            action_idx = max(relevant_q_values,key=relevant_q_values.get)\n",
    "            return action_idx\n",
    "\n",
    "\n",
    "    def append_sample(self, state, action, reward, next_state):\n",
    "        # Write your code here:\n",
    "        # save sample <s,a,r,s'> to the replay memory\n",
    "        self.memory.append((state, action, reward, next_state)) # it will append state, action, reward, next_state in memory as quadruple\n",
    "\n",
    "    \n",
    "    # pick samples randomly from replay memory (with batch_size) and train the network\n",
    "    def train_model(self):\n",
    "        if len(self.memory) > self.batch_size:\n",
    "            # Sample batch from the memory\n",
    "            mini_batch = random.sample(self.memory, self.batch_size)\n",
    "            # Initialise the variables update_input and update_target for a batch for storing the s and s'.\n",
    "            # Later, we will use it to store Q_t(S_t,a_t) and Q_t(S_{t+1},a)\n",
    "            update_input = np.zeros((self.batch_size, self.state_size))\n",
    "            update_output = np.zeros((self.batch_size, self.state_size))\n",
    "            actions, rewards = [], []\n",
    "            \n",
    "            for i in range(self.batch_size):\n",
    "                state, action, reward, next_state= mini_batch[i]\n",
    "                update_input[i] = state\n",
    "                actions.append(action)\n",
    "                rewards.append(reward)\n",
    "                update_output[i] = next_state\n",
    "\n",
    "            # Write your code from here\n",
    "            # 1. Predict the target from earlier model\n",
    "            # storing Q_t(S_t,a_t) in target\n",
    "            target = self.model.predict(update_input)\n",
    "                \n",
    "            # 2. Get the target for the Q-network\n",
    "            # storing Q_t(S_{t+1},a) in target_val\n",
    "            target_val = self.model.predict(update_output)\n",
    "\n",
    "            #3. Update your 'update_output' and 'update_input' batch\n",
    "            for i in range(self.batch_size):\n",
    "                    # If cab-driver crosses 24*30 hours but he has already started the trip then he’ll finish that trip and\n",
    "                    # then stop for recharging so future reward of next state will also add\n",
    "                    # Q Learning: get maximum Q value at s' from target model\n",
    "                    target[i][actions[i]] = rewards[i] + self.discount_factor * (np.amax(target_val[i]))\n",
    "\n",
    "            # 4. Fit your model and track the loss values\n",
    "            self.model.fit(update_input, target, batch_size=self.batch_size, epochs=1, verbose=0)\n",
    "\n",
    "\n",
    "    # To save the model weights\n",
    "    def save(self, name):\n",
    "        self.model.save(name)\n",
    "    \n",
    "    \n",
    "    # Defining a function for saving states track\n",
    "    def save_tracking_states(self):\n",
    "        for state in States_track.keys():\n",
    "            state_vec = np.array(env.state_encod_arch1(state)).reshape(1, self.state_size)\n",
    "            q_values = self.model.predict(state_vec)\n",
    "            for action in States_track[state].keys():\n",
    "                States_track[state][action].append(q_values[0][env.action_space.index(action)])"
   ]
  },
  {
   "cell_type": "code",
   "execution_count": 10,
   "metadata": {
    "colab": {},
    "colab_type": "code",
    "executionInfo": {
     "elapsed": 14372,
     "status": "ok",
     "timestamp": 1593170551819,
     "user": {
      "displayName": "Hanif Khan",
      "photoUrl": "https://lh3.googleusercontent.com/a-/AOh14Gj6RKQWqRco_5r7xGkFAonrZGAACDGMWGZq1TjRFw=s64",
      "userId": "09099878023367542188"
     },
     "user_tz": -330
    },
    "id": "f-V7ct_4vftw"
   },
   "outputs": [],
   "source": [
    "n_episodes = 20000 # number of episodes\n",
    "rewards_per_episode = [] # to store rewards in each episode\n",
    "\n",
    "# Call the environment\n",
    "env = CabDriver() #creating an instance of the class\n",
    "\n",
    "#Call the DQN agent\n",
    "state_size = len(env.state_encod_arch1(env.state_space))\n",
    "action_size = len(env.action_space)\n",
    "agent = DQNAgent(state_size, action_size)\n",
    "\n",
    "# initializing the variables to store qvalues for each state and action\n",
    "Qvalues = np.zeros((len(env.state_space), len(env.action_space)))"
   ]
  },
  {
   "cell_type": "markdown",
   "metadata": {
    "colab_type": "text",
    "id": "bqYjPfBNvft1"
   },
   "source": [
    "### DQN block"
   ]
  },
  {
   "cell_type": "code",
   "execution_count": 11,
   "metadata": {
    "colab": {
     "base_uri": "https://localhost:8080/",
     "height": 374
    },
    "colab_type": "code",
    "executionInfo": {
     "elapsed": 160583,
     "status": "ok",
     "timestamp": 1593182680111,
     "user": {
      "displayName": "Hanif Khan",
      "photoUrl": "https://lh3.googleusercontent.com/a-/AOh14Gj6RKQWqRco_5r7xGkFAonrZGAACDGMWGZq1TjRFw=s64",
      "userId": "09099878023367542188"
     },
     "user_tz": -330
    },
    "id": "qLIFl9hbvft2",
    "outputId": "daa4d264-6f7a-4ba2-9dd1-3228ab5892cc"
   },
   "outputs": [
    {
     "name": "stdout",
     "output_type": "stream",
     "text": [
      "episode 1000, reward 607.0, memory_length 2000, epsilon 0.670588227686808, biggest_change 21.27081298828125\n",
      "episode 2000, reward 797.0, memory_length 2000, epsilon 0.44950873165397887, biggest_change 26.13909912109375\n",
      "episode 3000, reward 1239.0, memory_length 2000, epsilon 0.301314713695717, biggest_change 16.49859619140625\n",
      "episode 4000, reward 1211.0, memory_length 2000, epsilon 0.20197729275572845, biggest_change 21.08708953857422\n",
      "episode 5000, reward 1779.0, memory_length 2000, epsilon 0.1353894281781737, biggest_change 5.119377136230469\n",
      "episode 6000, reward 1776.0, memory_length 2000, epsilon 0.09075424772913229, biggest_change 8.455696105957031\n",
      "episode 7000, reward 1721.0, memory_length 2000, epsilon 0.06083439151572175, biggest_change 5.3604736328125\n",
      "episode 8000, reward 2007.0, memory_length 2000, epsilon 0.04077851212136871, biggest_change 8.341567993164062\n",
      "episode 9000, reward 2069.0, memory_length 2000, epsilon 0.027334654122460753, biggest_change 5.9840545654296875\n",
      "episode 10000, reward 1817.0, memory_length 2000, epsilon 0.01832296660973617, biggest_change 8.613655090332031\n",
      "episode 11000, reward 1943.0, memory_length 2000, epsilon 0.012282251821347828, biggest_change 4.563079833984375\n",
      "episode 12000, reward 1943.0, memory_length 2000, epsilon 0.008233039606307195, biggest_change 6.9578399658203125\n",
      "episode 13000, reward 1870.0, memory_length 2000, epsilon 0.0055187714879130784, biggest_change 5.9222869873046875\n",
      "episode 14000, reward 2069.0, memory_length 2000, epsilon 0.003699343157838067, biggest_change 5.39715576171875\n",
      "episode 15000, reward 1768.0, memory_length 2000, epsilon 0.0024797438758636416, biggest_change 9.411041259765625\n",
      "episode 16000, reward 1915.0, memory_length 2000, epsilon 0.0016622220290255104, biggest_change 5.52130126953125\n",
      "episode 17000, reward 2073.0, memory_length 2000, epsilon 0.0011142207470178334, biggest_change 4.1569366455078125\n",
      "episode 18000, reward 2060.0, memory_length 2000, epsilon 0.000746884502434859, biggest_change 5.6816864013671875\n",
      "episode 19000, reward 1991.0, memory_length 2000, epsilon 0.00050065165405544, biggest_change 8.1365966796875\n",
      "episode 20000, reward 1992.0, memory_length 2000, epsilon 0.0003355968397942617, biggest_change 5.1564788818359375\n",
      "Time taken in seconds:  12129.017785310745\n"
     ]
    }
   ],
   "source": [
    "start_time = time.time()\n",
    "\n",
    "for episode in range(n_episodes):\n",
    "\n",
    "    # Write code here\n",
    "    # Call all the initialised variables of the environment\n",
    "    action_space, state_space, state_init = env.reset()    # Reset the environment\n",
    "    curr_state = state_init # Initial state is current state at start of the episode\n",
    "    terminal_state = False       # 'terminal' defines terminal state\n",
    "    score = 0       # total rewards zero at start of the episode\n",
    "    total_time = 0  # total time-spent zero at start of the episode\n",
    "    \n",
    "    biggest_change = 0 # to track convergence \n",
    "    timestep = 0 # to set minimum timesteps for checking convergence and storing qvalues\n",
    "    \n",
    "    while not terminal_state:\n",
    "        # Write your code here\n",
    "        \n",
    "        # 1. Pick epsilon-greedy action from possible actions for the current state\n",
    "        curr_action_idx = agent.get_action(curr_state, episode)\n",
    "        \n",
    "        # 2. Evaluate your reward and next state\n",
    "        next_state, reward, total_time_spent = env.step(curr_state, curr_action_idx, Time_matrix)\n",
    "        total_time += total_time_spent\n",
    "        # terminal_state will True once cab-driver crosses 24*30 hours.\n",
    "        terminal_state = True if total_time > 24*30 else False\n",
    "        \n",
    "        # 3. Append the experience to the memory\n",
    "        # convert curr_state and next state into a vector so that it can be fed to the NN using append_sample\n",
    "        curr_state_vec = env.state_encod_arch1(curr_state)\n",
    "        next_state_vec = env.state_encod_arch1(next_state)\n",
    "        agent.append_sample(curr_state_vec, curr_action_idx, reward, next_state_vec)\n",
    "        \n",
    "        # 4. Train the model by calling function agent.train_model\n",
    "        agent.train_model()\n",
    "        \n",
    "        # 5. Keep a track of rewards, Q-values\n",
    "        # rewards\n",
    "        score += reward\n",
    "        \n",
    "        timestep = timestep + 1\n",
    "        if timestep > 32: # once training start, it will track convergence and store Q-values\n",
    "            # reshape curr_state_vec to directly fed to NN\n",
    "            curr_state_vec_reshape = np.array(curr_state_vec).reshape(1, state_size)\n",
    "            # predicting qvalue for current state\n",
    "            qval = agent.model.predict(curr_state_vec_reshape) \n",
    "            # finding state number\n",
    "            state_number = env.state_space.index(curr_state)\n",
    "            # To track convergence finding biggest change between qvalues \n",
    "            biggest_change = max(biggest_change, abs(qval[0][curr_action_idx] - Qvalues[state_number][curr_action_idx]))\n",
    "            # For storing Q-values for each state and action\n",
    "            Qvalues[state_number][curr_action_idx] = qval[0][curr_action_idx]\n",
    "        \n",
    "        curr_state = next_state\n",
    "    \n",
    "    # storing total reward obtained in this episode\n",
    "    rewards_per_episode.append(score)\n",
    "    # storing q_values for states tracked\n",
    "    agent.save_tracking_states()\n",
    "    \n",
    "    if (episode+1) % 10 == 0:\n",
    "        # saving model weights\n",
    "        agent.save(name=\"model_weights.h5\")\n",
    "    \n",
    "    if (episode+1) % 1000 == 0:\n",
    "        # saving rewards_per_episode after every 1000 episode\n",
    "        save_obj(rewards_per_episode,'rewards_per_episode')\n",
    "        # saving states tracked after every 1000 episode\n",
    "        save_obj(States_track,'states_tracked')\n",
    "        # print episode, reward, memory length and epsilon-decay for every 1000th episode\n",
    "        print(\"episode {0}, reward {1}, memory_length {2}, epsilon {3}, biggest_change {4}\".format\n",
    "              (episode+1, \n",
    "               score, \n",
    "               len(agent.memory), \n",
    "               (agent.epsilon_min + (agent.epsilon_max - agent.epsilon_min) * np.exp(agent.epsilon_decay*episode)), \n",
    "               biggest_change))\n",
    "        # After every 1000 episode, checking if biggest change between qvalues is less than 0.00000001\n",
    "        small_change = 0.00000001\n",
    "        if biggest_change < small_change:\n",
    "            break # if biggest change between in qvalues is less than 0.00000001 then stop the training\n",
    "    \n",
    "\n",
    "end = time.time()    \n",
    "elapsed_time = time.time() - start_time\n",
    "print(\"Time taken in seconds: \", elapsed_time)"
   ]
  },
  {
   "cell_type": "markdown",
   "metadata": {
    "colab_type": "text",
    "id": "MSI9z9c3vft8"
   },
   "source": [
    "### Tracking Convergence"
   ]
  },
  {
   "cell_type": "code",
   "execution_count": 12,
   "metadata": {
    "colab": {},
    "colab_type": "code",
    "executionInfo": {
     "elapsed": 1047,
     "status": "ok",
     "timestamp": 1593182713112,
     "user": {
      "displayName": "Hanif Khan",
      "photoUrl": "https://lh3.googleusercontent.com/a-/AOh14Gj6RKQWqRco_5r7xGkFAonrZGAACDGMWGZq1TjRFw=s64",
      "userId": "09099878023367542188"
     },
     "user_tz": -330
    },
    "id": "n-YPcV_9vft9"
   },
   "outputs": [],
   "source": [
    "# loading rewards_per_episode.pkl to plot the rewards\n",
    "with open('rewards_per_episode.pkl', 'rb') as f:\n",
    "    rewards_per_episode = pickle.load(f)"
   ]
  },
  {
   "cell_type": "code",
   "execution_count": 13,
   "metadata": {
    "colab": {
     "base_uri": "https://localhost:8080/",
     "height": 300
    },
    "colab_type": "code",
    "executionInfo": {
     "elapsed": 1816,
     "status": "ok",
     "timestamp": 1593182715559,
     "user": {
      "displayName": "Hanif Khan",
      "photoUrl": "https://lh3.googleusercontent.com/a-/AOh14Gj6RKQWqRco_5r7xGkFAonrZGAACDGMWGZq1TjRFw=s64",
      "userId": "09099878023367542188"
     },
     "user_tz": -330
    },
    "id": "ukIaIeffvfuC",
    "outputId": "e402c99c-2916-45b9-f31a-2ec4727a1466"
   },
   "outputs": [
    {
     "data": {
      "text/plain": [
       "Text(0, 0.5, 'Reward Per Episode')"
      ]
     },
     "execution_count": 13,
     "metadata": {
      "tags": []
     },
     "output_type": "execute_result"
    },
    {
     "data": {
      "image/png": "[encoded data removed]",
      "text/plain": [
       "<Figure size 432x288 with 1 Axes>"
      ]
     },
     "metadata": {
      "needs_background": "light",
      "tags": []
     },
     "output_type": "display_data"
    }
   ],
   "source": [
    "# plotting rewards per episode\n",
    "plt.plot(list(range(len(rewards_per_episode))), rewards_per_episode)\n",
    "plt.xlabel(\"Episode Number\")\n",
    "plt.ylabel(\"Reward Per Episode\")"
   ]
  },
  {
   "cell_type": "code",
   "execution_count": 14,
   "metadata": {
    "colab": {},
    "colab_type": "code",
    "executionInfo": {
     "elapsed": 1338,
     "status": "ok",
     "timestamp": 1593182733284,
     "user": {
      "displayName": "Hanif Khan",
      "photoUrl": "https://lh3.googleusercontent.com/a-/AOh14Gj6RKQWqRco_5r7xGkFAonrZGAACDGMWGZq1TjRFw=s64",
      "userId": "09099878023367542188"
     },
     "user_tz": -330
    },
    "id": "OXBUiB9XvfuH"
   },
   "outputs": [],
   "source": [
    "# loading states_tracked.pkl to plot the qvalues for state-action pairs tracked\n",
    "with open('states_tracked.pkl', 'rb') as f:\n",
    "    States_track = pickle.load(f)  "
   ]
  },
  {
   "cell_type": "code",
   "execution_count": 15,
   "metadata": {
    "colab": {
     "base_uri": "https://localhost:8080/",
     "height": 444
    },
    "colab_type": "code",
    "executionInfo": {
     "elapsed": 1891,
     "status": "ok",
     "timestamp": 1593182735148,
     "user": {
      "displayName": "Hanif Khan",
      "photoUrl": "https://lh3.googleusercontent.com/a-/AOh14Gj6RKQWqRco_5r7xGkFAonrZGAACDGMWGZq1TjRFw=s64",
      "userId": "09099878023367542188"
     },
     "user_tz": -330
    },
    "id": "vgQC-RxuvfuL",
    "outputId": "d7c2ffce-aba7-4290-f79b-8e2dd8445012"
   },
   "outputs": [
    {
     "data": {
      "image/png": "[encoded data removed]",
      "text/plain": [
       "<Figure size 1152x504 with 3 Axes>"
      ]
     },
     "metadata": {
      "needs_background": "light",
      "tags": []
     },
     "output_type": "display_data"
    }
   ],
   "source": [
    "# Q-values vs Episodes for (state,action) pair. Episodes where (state,action)pair appeared\n",
    "plt.figure(0, figsize=(16,7))\n",
    "plt.subplot(221)\n",
    "plt.title(\"state='(0, 0, 0)' action=(0, 1)\")\n",
    "plt.plot(np.asarray(range(0, len(States_track[(0, 0, 0)][(0, 1)]))),np.asarray(States_track[(0, 0, 0)][(0, 1)]))\n",
    "plt.subplot(222)\n",
    "plt.title(\"state='(0, 1, 0)' action=(1, 0)\")\n",
    "plt.plot(np.asarray(range(0, len(States_track[(0, 1, 0)][(1, 0)]))),np.asarray(States_track[(0, 1, 0)][(1, 0)]))\n",
    "plt.subplot(223)\n",
    "plt.title(\"state='(0, 0, 1)' action=(1, 2)\")\n",
    "plt.plot(np.asarray(range(0, len(States_track[(0, 0, 1)][(1, 2)]))),np.asarray(States_track[(0, 0, 1)][(1, 2)]))\n",
    "plt.show()"
   ]
  },
  {
   "cell_type": "markdown",
   "metadata": {
    "colab_type": "text",
    "id": "GNb4AUaTvfuR"
   },
   "source": [
    "#### Optimal Q values"
   ]
  },
  {
   "cell_type": "code",
   "execution_count": 16,
   "metadata": {
    "colab": {
     "base_uri": "https://localhost:8080/",
     "height": 719
    },
    "colab_type": "code",
    "executionInfo": {
     "elapsed": 1155,
     "status": "ok",
     "timestamp": 1593182952665,
     "user": {
      "displayName": "Hanif Khan",
      "photoUrl": "https://lh3.googleusercontent.com/a-/AOh14Gj6RKQWqRco_5r7xGkFAonrZGAACDGMWGZq1TjRFw=s64",
      "userId": "09099878023367542188"
     },
     "user_tz": -330
    },
    "id": "xrm4pywdvfuR",
    "outputId": "78bb4c30-e7eb-4e38-e5be-922488d1e5b2"
   },
   "outputs": [
    {
     "data": {
      "text/html": [
       "<div>\n",
       "<style scoped>\n",
       "    .dataframe tbody tr th:only-of-type {\n",
       "        vertical-align: middle;\n",
       "    }\n",
       "\n",
       "    .dataframe tbody tr th {\n",
       "        vertical-align: top;\n",
       "    }\n",
       "\n",
       "    .dataframe thead th {\n",
       "        text-align: right;\n",
       "    }\n",
       "</style>\n",
       "<table border=\"1\" class=\"dataframe\">\n",
       "  <thead>\n",
       "    <tr style=\"text-align: right;\">\n",
       "      <th></th>\n",
       "      <th>(0, 0)</th>\n",
       "      <th>(0, 1)</th>\n",
       "      <th>(0, 2)</th>\n",
       "      <th>(0, 3)</th>\n",
       "      <th>(0, 4)</th>\n",
       "      <th>(1, 0)</th>\n",
       "      <th>(1, 2)</th>\n",
       "      <th>(1, 3)</th>\n",
       "      <th>(1, 4)</th>\n",
       "      <th>(2, 0)</th>\n",
       "      <th>(2, 1)</th>\n",
       "      <th>(2, 3)</th>\n",
       "      <th>(2, 4)</th>\n",
       "      <th>(3, 0)</th>\n",
       "      <th>(3, 1)</th>\n",
       "      <th>(3, 2)</th>\n",
       "      <th>(3, 4)</th>\n",
       "      <th>(4, 0)</th>\n",
       "      <th>(4, 1)</th>\n",
       "      <th>(4, 2)</th>\n",
       "      <th>(4, 3)</th>\n",
       "    </tr>\n",
       "  </thead>\n",
       "  <tbody>\n",
       "    <tr>\n",
       "      <th>(0, 0, 0)</th>\n",
       "      <td>125.717216</td>\n",
       "      <td>116.402977</td>\n",
       "      <td>132.956192</td>\n",
       "      <td>156.259964</td>\n",
       "      <td>126.866051</td>\n",
       "      <td>106.383507</td>\n",
       "      <td>129.972931</td>\n",
       "      <td>119.521820</td>\n",
       "      <td>109.233406</td>\n",
       "      <td>104.117264</td>\n",
       "      <td>137.731140</td>\n",
       "      <td>133.388092</td>\n",
       "      <td>103.915916</td>\n",
       "      <td>105.853622</td>\n",
       "      <td>95.934212</td>\n",
       "      <td>103.209915</td>\n",
       "      <td>98.230255</td>\n",
       "      <td>108.837517</td>\n",
       "      <td>132.258438</td>\n",
       "      <td>119.070801</td>\n",
       "      <td>123.778214</td>\n",
       "    </tr>\n",
       "    <tr>\n",
       "      <th>(0, 0, 1)</th>\n",
       "      <td>117.697350</td>\n",
       "      <td>136.982193</td>\n",
       "      <td>148.496338</td>\n",
       "      <td>149.452255</td>\n",
       "      <td>126.745750</td>\n",
       "      <td>118.710098</td>\n",
       "      <td>142.428162</td>\n",
       "      <td>132.865311</td>\n",
       "      <td>110.952606</td>\n",
       "      <td>102.666153</td>\n",
       "      <td>127.295395</td>\n",
       "      <td>110.287727</td>\n",
       "      <td>95.744102</td>\n",
       "      <td>90.031868</td>\n",
       "      <td>97.219849</td>\n",
       "      <td>114.410904</td>\n",
       "      <td>95.954895</td>\n",
       "      <td>118.211067</td>\n",
       "      <td>114.900162</td>\n",
       "      <td>118.135445</td>\n",
       "      <td>134.691406</td>\n",
       "    </tr>\n",
       "    <tr>\n",
       "      <th>(0, 0, 2)</th>\n",
       "      <td>123.142242</td>\n",
       "      <td>130.017914</td>\n",
       "      <td>138.220657</td>\n",
       "      <td>151.526917</td>\n",
       "      <td>129.962997</td>\n",
       "      <td>121.168678</td>\n",
       "      <td>121.554916</td>\n",
       "      <td>122.835571</td>\n",
       "      <td>121.116898</td>\n",
       "      <td>109.934883</td>\n",
       "      <td>120.310219</td>\n",
       "      <td>122.277962</td>\n",
       "      <td>101.275528</td>\n",
       "      <td>121.284477</td>\n",
       "      <td>101.410461</td>\n",
       "      <td>93.807571</td>\n",
       "      <td>99.306358</td>\n",
       "      <td>97.196228</td>\n",
       "      <td>128.289780</td>\n",
       "      <td>113.782738</td>\n",
       "      <td>122.782196</td>\n",
       "    </tr>\n",
       "    <tr>\n",
       "      <th>(0, 0, 3)</th>\n",
       "      <td>114.917603</td>\n",
       "      <td>141.659424</td>\n",
       "      <td>138.847351</td>\n",
       "      <td>134.086929</td>\n",
       "      <td>127.840630</td>\n",
       "      <td>125.814369</td>\n",
       "      <td>139.778778</td>\n",
       "      <td>117.312134</td>\n",
       "      <td>114.837502</td>\n",
       "      <td>104.589668</td>\n",
       "      <td>134.811493</td>\n",
       "      <td>112.406021</td>\n",
       "      <td>101.252960</td>\n",
       "      <td>106.985535</td>\n",
       "      <td>95.421616</td>\n",
       "      <td>100.930939</td>\n",
       "      <td>104.617538</td>\n",
       "      <td>108.122353</td>\n",
       "      <td>123.529427</td>\n",
       "      <td>132.945038</td>\n",
       "      <td>120.855461</td>\n",
       "    </tr>\n",
       "    <tr>\n",
       "      <th>(0, 0, 4)</th>\n",
       "      <td>119.404327</td>\n",
       "      <td>157.963364</td>\n",
       "      <td>142.572662</td>\n",
       "      <td>151.353378</td>\n",
       "      <td>131.982452</td>\n",
       "      <td>127.087708</td>\n",
       "      <td>119.078957</td>\n",
       "      <td>123.145348</td>\n",
       "      <td>112.046814</td>\n",
       "      <td>112.739166</td>\n",
       "      <td>136.649841</td>\n",
       "      <td>129.212906</td>\n",
       "      <td>116.180511</td>\n",
       "      <td>103.460838</td>\n",
       "      <td>99.828506</td>\n",
       "      <td>120.716591</td>\n",
       "      <td>97.034531</td>\n",
       "      <td>104.672531</td>\n",
       "      <td>128.541290</td>\n",
       "      <td>131.128815</td>\n",
       "      <td>136.533646</td>\n",
       "    </tr>\n",
       "    <tr>\n",
       "      <th>(0, 0, 5)</th>\n",
       "      <td>126.400124</td>\n",
       "      <td>135.868668</td>\n",
       "      <td>159.971420</td>\n",
       "      <td>133.301819</td>\n",
       "      <td>129.329880</td>\n",
       "      <td>135.491379</td>\n",
       "      <td>162.853317</td>\n",
       "      <td>122.376167</td>\n",
       "      <td>105.797379</td>\n",
       "      <td>104.249580</td>\n",
       "      <td>128.834503</td>\n",
       "      <td>117.790314</td>\n",
       "      <td>90.438370</td>\n",
       "      <td>107.813324</td>\n",
       "      <td>106.751709</td>\n",
       "      <td>142.184326</td>\n",
       "      <td>110.228432</td>\n",
       "      <td>105.023407</td>\n",
       "      <td>126.796501</td>\n",
       "      <td>137.493683</td>\n",
       "      <td>129.985519</td>\n",
       "    </tr>\n",
       "    <tr>\n",
       "      <th>(0, 0, 6)</th>\n",
       "      <td>115.133720</td>\n",
       "      <td>144.037125</td>\n",
       "      <td>144.421158</td>\n",
       "      <td>148.874786</td>\n",
       "      <td>125.316422</td>\n",
       "      <td>116.947968</td>\n",
       "      <td>118.052170</td>\n",
       "      <td>118.074577</td>\n",
       "      <td>116.263054</td>\n",
       "      <td>99.981071</td>\n",
       "      <td>116.899689</td>\n",
       "      <td>106.039337</td>\n",
       "      <td>71.027153</td>\n",
       "      <td>116.007317</td>\n",
       "      <td>103.448067</td>\n",
       "      <td>121.187172</td>\n",
       "      <td>92.930656</td>\n",
       "      <td>104.379562</td>\n",
       "      <td>115.834747</td>\n",
       "      <td>104.193420</td>\n",
       "      <td>124.278961</td>\n",
       "    </tr>\n",
       "    <tr>\n",
       "      <th>(0, 1, 0)</th>\n",
       "      <td>124.615326</td>\n",
       "      <td>126.645752</td>\n",
       "      <td>135.433685</td>\n",
       "      <td>166.080353</td>\n",
       "      <td>125.128601</td>\n",
       "      <td>100.564468</td>\n",
       "      <td>136.117645</td>\n",
       "      <td>109.012566</td>\n",
       "      <td>110.867226</td>\n",
       "      <td>112.073380</td>\n",
       "      <td>144.257355</td>\n",
       "      <td>130.976456</td>\n",
       "      <td>97.853043</td>\n",
       "      <td>105.273476</td>\n",
       "      <td>99.969070</td>\n",
       "      <td>108.880203</td>\n",
       "      <td>106.407097</td>\n",
       "      <td>113.854874</td>\n",
       "      <td>136.481796</td>\n",
       "      <td>122.350914</td>\n",
       "      <td>132.164749</td>\n",
       "    </tr>\n",
       "    <tr>\n",
       "      <th>(0, 1, 1)</th>\n",
       "      <td>117.488411</td>\n",
       "      <td>139.167938</td>\n",
       "      <td>146.908279</td>\n",
       "      <td>151.414780</td>\n",
       "      <td>124.949120</td>\n",
       "      <td>118.810913</td>\n",
       "      <td>142.268021</td>\n",
       "      <td>129.486176</td>\n",
       "      <td>110.345390</td>\n",
       "      <td>102.641777</td>\n",
       "      <td>132.134201</td>\n",
       "      <td>110.094574</td>\n",
       "      <td>96.526794</td>\n",
       "      <td>94.429642</td>\n",
       "      <td>100.440178</td>\n",
       "      <td>102.538742</td>\n",
       "      <td>101.695091</td>\n",
       "      <td>116.158379</td>\n",
       "      <td>121.656830</td>\n",
       "      <td>116.773186</td>\n",
       "      <td>139.251678</td>\n",
       "    </tr>\n",
       "    <tr>\n",
       "      <th>(0, 1, 2)</th>\n",
       "      <td>122.938499</td>\n",
       "      <td>135.715256</td>\n",
       "      <td>137.703903</td>\n",
       "      <td>156.290176</td>\n",
       "      <td>127.137726</td>\n",
       "      <td>122.126511</td>\n",
       "      <td>122.459862</td>\n",
       "      <td>121.496460</td>\n",
       "      <td>120.822800</td>\n",
       "      <td>109.159988</td>\n",
       "      <td>121.441818</td>\n",
       "      <td>122.771317</td>\n",
       "      <td>102.159103</td>\n",
       "      <td>121.244736</td>\n",
       "      <td>99.409431</td>\n",
       "      <td>93.221138</td>\n",
       "      <td>93.658646</td>\n",
       "      <td>110.380836</td>\n",
       "      <td>135.665268</td>\n",
       "      <td>113.253174</td>\n",
       "      <td>123.644272</td>\n",
       "    </tr>\n",
       "  </tbody>\n",
       "</table>\n",
       "</div>"
      ],
      "text/plain": [
       "               (0, 0)      (0, 1)      (0, 2)      (0, 3)      (0, 4)  \\\n",
       "(0, 0, 0)  125.717216  116.402977  132.956192  156.259964  126.866051   \n",
       "(0, 0, 1)  117.697350  136.982193  148.496338  149.452255  126.745750   \n",
       "(0, 0, 2)  123.142242  130.017914  138.220657  151.526917  129.962997   \n",
       "(0, 0, 3)  114.917603  141.659424  138.847351  134.086929  127.840630   \n",
       "(0, 0, 4)  119.404327  157.963364  142.572662  151.353378  131.982452   \n",
       "(0, 0, 5)  126.400124  135.868668  159.971420  133.301819  129.329880   \n",
       "(0, 0, 6)  115.133720  144.037125  144.421158  148.874786  125.316422   \n",
       "(0, 1, 0)  124.615326  126.645752  135.433685  166.080353  125.128601   \n",
       "(0, 1, 1)  117.488411  139.167938  146.908279  151.414780  124.949120   \n",
       "(0, 1, 2)  122.938499  135.715256  137.703903  156.290176  127.137726   \n",
       "\n",
       "               (1, 0)      (1, 2)      (1, 3)      (1, 4)      (2, 0)  \\\n",
       "(0, 0, 0)  106.383507  129.972931  119.521820  109.233406  104.117264   \n",
       "(0, 0, 1)  118.710098  142.428162  132.865311  110.952606  102.666153   \n",
       "(0, 0, 2)  121.168678  121.554916  122.835571  121.116898  109.934883   \n",
       "(0, 0, 3)  125.814369  139.778778  117.312134  114.837502  104.589668   \n",
       "(0, 0, 4)  127.087708  119.078957  123.145348  112.046814  112.739166   \n",
       "(0, 0, 5)  135.491379  162.853317  122.376167  105.797379  104.249580   \n",
       "(0, 0, 6)  116.947968  118.052170  118.074577  116.263054   99.981071   \n",
       "(0, 1, 0)  100.564468  136.117645  109.012566  110.867226  112.073380   \n",
       "(0, 1, 1)  118.810913  142.268021  129.486176  110.345390  102.641777   \n",
       "(0, 1, 2)  122.126511  122.459862  121.496460  120.822800  109.159988   \n",
       "\n",
       "               (2, 1)      (2, 3)      (2, 4)      (3, 0)      (3, 1)  \\\n",
       "(0, 0, 0)  137.731140  133.388092  103.915916  105.853622   95.934212   \n",
       "(0, 0, 1)  127.295395  110.287727   95.744102   90.031868   97.219849   \n",
       "(0, 0, 2)  120.310219  122.277962  101.275528  121.284477  101.410461   \n",
       "(0, 0, 3)  134.811493  112.406021  101.252960  106.985535   95.421616   \n",
       "(0, 0, 4)  136.649841  129.212906  116.180511  103.460838   99.828506   \n",
       "(0, 0, 5)  128.834503  117.790314   90.438370  107.813324  106.751709   \n",
       "(0, 0, 6)  116.899689  106.039337   71.027153  116.007317  103.448067   \n",
       "(0, 1, 0)  144.257355  130.976456   97.853043  105.273476   99.969070   \n",
       "(0, 1, 1)  132.134201  110.094574   96.526794   94.429642  100.440178   \n",
       "(0, 1, 2)  121.441818  122.771317  102.159103  121.244736   99.409431   \n",
       "\n",
       "               (3, 2)      (3, 4)      (4, 0)      (4, 1)      (4, 2)  \\\n",
       "(0, 0, 0)  103.209915   98.230255  108.837517  132.258438  119.070801   \n",
       "(0, 0, 1)  114.410904   95.954895  118.211067  114.900162  118.135445   \n",
       "(0, 0, 2)   93.807571   99.306358   97.196228  128.289780  113.782738   \n",
       "(0, 0, 3)  100.930939  104.617538  108.122353  123.529427  132.945038   \n",
       "(0, 0, 4)  120.716591   97.034531  104.672531  128.541290  131.128815   \n",
       "(0, 0, 5)  142.184326  110.228432  105.023407  126.796501  137.493683   \n",
       "(0, 0, 6)  121.187172   92.930656  104.379562  115.834747  104.193420   \n",
       "(0, 1, 0)  108.880203  106.407097  113.854874  136.481796  122.350914   \n",
       "(0, 1, 1)  102.538742  101.695091  116.158379  121.656830  116.773186   \n",
       "(0, 1, 2)   93.221138   93.658646  110.380836  135.665268  113.253174   \n",
       "\n",
       "               (4, 3)  \n",
       "(0, 0, 0)  123.778214  \n",
       "(0, 0, 1)  134.691406  \n",
       "(0, 0, 2)  122.782196  \n",
       "(0, 0, 3)  120.855461  \n",
       "(0, 0, 4)  136.533646  \n",
       "(0, 0, 5)  129.985519  \n",
       "(0, 0, 6)  124.278961  \n",
       "(0, 1, 0)  132.164749  \n",
       "(0, 1, 1)  139.251678  \n",
       "(0, 1, 2)  123.644272  "
      ]
     },
     "execution_count": 16,
     "metadata": {
      "tags": []
     },
     "output_type": "execute_result"
    }
   ],
   "source": [
    "# optimal qvalues\n",
    "Qvalues_df = pd.DataFrame(data=Qvalues, index=env.state_space, columns=env.action_space)\n",
    "Qvalues_df.head(10)"
   ]
  },
  {
   "cell_type": "markdown",
   "metadata": {
    "colab_type": "text",
    "id": "-7cyTuyAvfwF"
   },
   "source": [
    "#### Epsilon-decay sample function"
   ]
  },
  {
   "cell_type": "markdown",
   "metadata": {
    "colab_type": "text",
    "id": "CYtxJVacvfwH"
   },
   "source": [
    "<div class=\"alert alert-block alert-info\">\n",
    "Try building a similar epsilon-decay function for your model.\n",
    "</div>"
   ]
  },
  {
   "cell_type": "code",
   "execution_count": 17,
   "metadata": {
    "colab": {},
    "colab_type": "code",
    "executionInfo": {
     "elapsed": 741,
     "status": "ok",
     "timestamp": 1593182954185,
     "user": {
      "displayName": "Hanif Khan",
      "photoUrl": "https://lh3.googleusercontent.com/a-/AOh14Gj6RKQWqRco_5r7xGkFAonrZGAACDGMWGZq1TjRFw=s64",
      "userId": "09099878023367542188"
     },
     "user_tz": -330
    },
    "id": "w0Hy6U40vfwI"
   },
   "outputs": [],
   "source": [
    "time = np.arange(0,20000)\n",
    "epsilon = []\n",
    "for i in range(0,20000):\n",
    "    epsilon.append(0 + (1 - 0) * np.exp(-0.0004*i))"
   ]
  },
  {
   "cell_type": "code",
   "execution_count": 18,
   "metadata": {
    "colab": {
     "base_uri": "https://localhost:8080/",
     "height": 265
    },
    "colab_type": "code",
    "executionInfo": {
     "elapsed": 1457,
     "status": "ok",
     "timestamp": 1593182958517,
     "user": {
      "displayName": "Hanif Khan",
      "photoUrl": "https://lh3.googleusercontent.com/a-/AOh14Gj6RKQWqRco_5r7xGkFAonrZGAACDGMWGZq1TjRFw=s64",
      "userId": "09099878023367542188"
     },
     "user_tz": -330
    },
    "id": "u6OMuIktvfwR",
    "outputId": "878de0f1-1002-4e85-b4bf-825be1441dd2"
   },
   "outputs": [
    {
     "data": {
      "image/png": "[encoded data removed]",
      "text/plain": [
       "<Figure size 432x288 with 1 Axes>"
      ]
     },
     "metadata": {
      "needs_background": "light",
      "tags": []
     },
     "output_type": "display_data"
    }
   ],
   "source": [
    "plt.plot(time, epsilon)\n",
    "plt.show()"
   ]
  }
 ],
 "metadata": {
  "colab": {
   "collapsed_sections": [],
   "name": "DQN_Agent_Arch1.ipynb",
   "provenance": []
  },
  "kernelspec": {
   "display_name": "Python 3",
   "language": "python",
   "name": "python3"
  },
  "language_info": {
   "codemirror_mode": {
    "name": "ipython",
    "version": 3
   },
   "file_extension": ".py",
   "mimetype": "text/x-python",
   "name": "python",
   "nbconvert_exporter": "python",
   "pygments_lexer": "ipython3",
   "version": "3.7.4"
  }
 },
 "nbformat": 4,
 "nbformat_minor": 1
}
